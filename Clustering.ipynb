{
 "cells": [
  {
   "cell_type": "code",
   "execution_count": 1,
   "metadata": {
    "id": "PIXQJp8UdENt"
   },
   "outputs": [],
   "source": [
    "# Making the necessary imports\n",
    "import pandas as pd\n",
    "import numpy as np\n",
    "from scipy import stats\n",
    "import seaborn as sns\n",
    "import matplotlib.pyplot as plt\n",
    "import statistics"
   ]
  },
  {
   "cell_type": "code",
   "execution_count": 2,
   "metadata": {
    "colab": {
     "base_uri": "https://localhost:8080/",
     "height": 206
    },
    "id": "HmRNDUFydZrA",
    "outputId": "07fc61a9-b2be-49f8-d3da-63e49016aece"
   },
   "outputs": [
    {
     "data": {
      "text/html": [
       "<div>\n",
       "<style scoped>\n",
       "    .dataframe tbody tr th:only-of-type {\n",
       "        vertical-align: middle;\n",
       "    }\n",
       "\n",
       "    .dataframe tbody tr th {\n",
       "        vertical-align: top;\n",
       "    }\n",
       "\n",
       "    .dataframe thead th {\n",
       "        text-align: right;\n",
       "    }\n",
       "</style>\n",
       "<table border=\"1\" class=\"dataframe\">\n",
       "  <thead>\n",
       "    <tr style=\"text-align: right;\">\n",
       "      <th></th>\n",
       "      <th>CustomerID</th>\n",
       "      <th>Gender</th>\n",
       "      <th>Age</th>\n",
       "      <th>Annual Income (k$)</th>\n",
       "      <th>Spending Score (1-100)</th>\n",
       "    </tr>\n",
       "  </thead>\n",
       "  <tbody>\n",
       "    <tr>\n",
       "      <th>0</th>\n",
       "      <td>1</td>\n",
       "      <td>Male</td>\n",
       "      <td>19</td>\n",
       "      <td>15</td>\n",
       "      <td>39</td>\n",
       "    </tr>\n",
       "    <tr>\n",
       "      <th>1</th>\n",
       "      <td>2</td>\n",
       "      <td>Male</td>\n",
       "      <td>21</td>\n",
       "      <td>15</td>\n",
       "      <td>81</td>\n",
       "    </tr>\n",
       "    <tr>\n",
       "      <th>2</th>\n",
       "      <td>3</td>\n",
       "      <td>Female</td>\n",
       "      <td>20</td>\n",
       "      <td>16</td>\n",
       "      <td>6</td>\n",
       "    </tr>\n",
       "    <tr>\n",
       "      <th>3</th>\n",
       "      <td>4</td>\n",
       "      <td>Female</td>\n",
       "      <td>23</td>\n",
       "      <td>16</td>\n",
       "      <td>77</td>\n",
       "    </tr>\n",
       "    <tr>\n",
       "      <th>4</th>\n",
       "      <td>5</td>\n",
       "      <td>Female</td>\n",
       "      <td>31</td>\n",
       "      <td>17</td>\n",
       "      <td>40</td>\n",
       "    </tr>\n",
       "  </tbody>\n",
       "</table>\n",
       "</div>"
      ],
      "text/plain": [
       "   CustomerID  Gender  Age  Annual Income (k$)  Spending Score (1-100)\n",
       "0           1    Male   19                  15                      39\n",
       "1           2    Male   21                  15                      81\n",
       "2           3  Female   20                  16                       6\n",
       "3           4  Female   23                  16                      77\n",
       "4           5  Female   31                  17                      40"
      ]
     },
     "execution_count": 2,
     "metadata": {},
     "output_type": "execute_result"
    }
   ],
   "source": [
    "# Reading the  file\n",
    "df=pd.read_csv(r\"C:\\Users\\Sneha\\Downloads\\archive (10)\\Mall_Customers.csv\")\n",
    "df.head()"
   ]
  },
  {
   "cell_type": "code",
   "execution_count": 3,
   "metadata": {
    "colab": {
     "base_uri": "https://localhost:8080/"
    },
    "id": "cJDOGS2pDOiw",
    "outputId": "97f61820-6345-4d5b-ba49-24d96a4ed2ea"
   },
   "outputs": [
    {
     "name": "stdout",
     "output_type": "stream",
     "text": [
      "<class 'pandas.core.frame.DataFrame'>\n",
      "RangeIndex: 200 entries, 0 to 199\n",
      "Data columns (total 5 columns):\n",
      " #   Column                  Non-Null Count  Dtype \n",
      "---  ------                  --------------  ----- \n",
      " 0   CustomerID              200 non-null    int64 \n",
      " 1   Gender                  200 non-null    object\n",
      " 2   Age                     200 non-null    int64 \n",
      " 3   Annual Income (k$)      200 non-null    int64 \n",
      " 4   Spending Score (1-100)  200 non-null    int64 \n",
      "dtypes: int64(4), object(1)\n",
      "memory usage: 7.9+ KB\n"
     ]
    }
   ],
   "source": [
    "df.info()"
   ]
  },
  {
   "cell_type": "code",
   "execution_count": 4,
   "metadata": {
    "colab": {
     "base_uri": "https://localhost:8080/",
     "height": 241
    },
    "id": "5-JM0TojDPQ-",
    "outputId": "cb2d17c9-32b3-4bc8-cc8d-8d93fa9a8c42"
   },
   "outputs": [
    {
     "data": {
      "text/plain": [
       "CustomerID                 int64\n",
       "Gender                    object\n",
       "Age                        int64\n",
       "Annual Income (k$)         int64\n",
       "Spending Score (1-100)     int64\n",
       "dtype: object"
      ]
     },
     "execution_count": 4,
     "metadata": {},
     "output_type": "execute_result"
    }
   ],
   "source": [
    "df.dtypes\n"
   ]
  },
  {
   "cell_type": "code",
   "execution_count": 5,
   "metadata": {
    "colab": {
     "base_uri": "https://localhost:8080/",
     "height": 241
    },
    "id": "1XhKO2eCf8sJ",
    "outputId": "89ad903e-7c19-4be1-a9f6-16f43d01f581"
   },
   "outputs": [
    {
     "data": {
      "text/plain": [
       "CustomerID                0\n",
       "Gender                    0\n",
       "Age                       0\n",
       "Annual Income (k$)        0\n",
       "Spending Score (1-100)    0\n",
       "dtype: int64"
      ]
     },
     "execution_count": 5,
     "metadata": {},
     "output_type": "execute_result"
    }
   ],
   "source": [
    "df.isnull().sum()"
   ]
  },
  {
   "cell_type": "code",
   "execution_count": 6,
   "metadata": {
    "colab": {
     "base_uri": "https://localhost:8080/",
     "height": 287
    },
    "id": "zbZ9FmWPlhvl",
    "outputId": "19139f01-2917-41b9-c574-a7318cac09c0"
   },
   "outputs": [
    {
     "data": {
      "text/html": [
       "<div>\n",
       "<style scoped>\n",
       "    .dataframe tbody tr th:only-of-type {\n",
       "        vertical-align: middle;\n",
       "    }\n",
       "\n",
       "    .dataframe tbody tr th {\n",
       "        vertical-align: top;\n",
       "    }\n",
       "\n",
       "    .dataframe thead th {\n",
       "        text-align: right;\n",
       "    }\n",
       "</style>\n",
       "<table border=\"1\" class=\"dataframe\">\n",
       "  <thead>\n",
       "    <tr style=\"text-align: right;\">\n",
       "      <th></th>\n",
       "      <th>CustomerID</th>\n",
       "      <th>Age</th>\n",
       "      <th>Annual Income (k$)</th>\n",
       "      <th>Spending Score (1-100)</th>\n",
       "    </tr>\n",
       "  </thead>\n",
       "  <tbody>\n",
       "    <tr>\n",
       "      <th>CustomerID</th>\n",
       "      <td>3350.000000</td>\n",
       "      <td>-21.638191</td>\n",
       "      <td>1486.050251</td>\n",
       "      <td>20.678392</td>\n",
       "    </tr>\n",
       "    <tr>\n",
       "      <th>Age</th>\n",
       "      <td>-21.638191</td>\n",
       "      <td>195.133166</td>\n",
       "      <td>-4.548744</td>\n",
       "      <td>-118.040201</td>\n",
       "    </tr>\n",
       "    <tr>\n",
       "      <th>Annual Income (k$)</th>\n",
       "      <td>1486.050251</td>\n",
       "      <td>-4.548744</td>\n",
       "      <td>689.835578</td>\n",
       "      <td>6.716583</td>\n",
       "    </tr>\n",
       "    <tr>\n",
       "      <th>Spending Score (1-100)</th>\n",
       "      <td>20.678392</td>\n",
       "      <td>-118.040201</td>\n",
       "      <td>6.716583</td>\n",
       "      <td>666.854271</td>\n",
       "    </tr>\n",
       "  </tbody>\n",
       "</table>\n",
       "</div>"
      ],
      "text/plain": [
       "                         CustomerID         Age  Annual Income (k$)  \\\n",
       "CustomerID              3350.000000  -21.638191         1486.050251   \n",
       "Age                      -21.638191  195.133166           -4.548744   \n",
       "Annual Income (k$)      1486.050251   -4.548744          689.835578   \n",
       "Spending Score (1-100)    20.678392 -118.040201            6.716583   \n",
       "\n",
       "                        Spending Score (1-100)  \n",
       "CustomerID                           20.678392  \n",
       "Age                                -118.040201  \n",
       "Annual Income (k$)                    6.716583  \n",
       "Spending Score (1-100)              666.854271  "
      ]
     },
     "execution_count": 6,
     "metadata": {},
     "output_type": "execute_result"
    }
   ],
   "source": [
    "df.cov()"
   ]
  },
  {
   "cell_type": "code",
   "execution_count": 7,
   "metadata": {
    "colab": {
     "base_uri": "https://localhost:8080/",
     "height": 287
    },
    "id": "IzAF1OC9Dj6h",
    "outputId": "04c13b9a-0bdc-4a49-f843-1ceb1488b1ef"
   },
   "outputs": [
    {
     "data": {
      "text/html": [
       "<div>\n",
       "<style scoped>\n",
       "    .dataframe tbody tr th:only-of-type {\n",
       "        vertical-align: middle;\n",
       "    }\n",
       "\n",
       "    .dataframe tbody tr th {\n",
       "        vertical-align: top;\n",
       "    }\n",
       "\n",
       "    .dataframe thead th {\n",
       "        text-align: right;\n",
       "    }\n",
       "</style>\n",
       "<table border=\"1\" class=\"dataframe\">\n",
       "  <thead>\n",
       "    <tr style=\"text-align: right;\">\n",
       "      <th></th>\n",
       "      <th>CustomerID</th>\n",
       "      <th>Age</th>\n",
       "      <th>Annual Income (k$)</th>\n",
       "      <th>Spending Score (1-100)</th>\n",
       "    </tr>\n",
       "  </thead>\n",
       "  <tbody>\n",
       "    <tr>\n",
       "      <th>CustomerID</th>\n",
       "      <td>1.000000</td>\n",
       "      <td>-0.026763</td>\n",
       "      <td>0.977548</td>\n",
       "      <td>0.013835</td>\n",
       "    </tr>\n",
       "    <tr>\n",
       "      <th>Age</th>\n",
       "      <td>-0.026763</td>\n",
       "      <td>1.000000</td>\n",
       "      <td>-0.012398</td>\n",
       "      <td>-0.327227</td>\n",
       "    </tr>\n",
       "    <tr>\n",
       "      <th>Annual Income (k$)</th>\n",
       "      <td>0.977548</td>\n",
       "      <td>-0.012398</td>\n",
       "      <td>1.000000</td>\n",
       "      <td>0.009903</td>\n",
       "    </tr>\n",
       "    <tr>\n",
       "      <th>Spending Score (1-100)</th>\n",
       "      <td>0.013835</td>\n",
       "      <td>-0.327227</td>\n",
       "      <td>0.009903</td>\n",
       "      <td>1.000000</td>\n",
       "    </tr>\n",
       "  </tbody>\n",
       "</table>\n",
       "</div>"
      ],
      "text/plain": [
       "                        CustomerID       Age  Annual Income (k$)  \\\n",
       "CustomerID                1.000000 -0.026763            0.977548   \n",
       "Age                      -0.026763  1.000000           -0.012398   \n",
       "Annual Income (k$)        0.977548 -0.012398            1.000000   \n",
       "Spending Score (1-100)    0.013835 -0.327227            0.009903   \n",
       "\n",
       "                        Spending Score (1-100)  \n",
       "CustomerID                            0.013835  \n",
       "Age                                  -0.327227  \n",
       "Annual Income (k$)                    0.009903  \n",
       "Spending Score (1-100)                1.000000  "
      ]
     },
     "execution_count": 7,
     "metadata": {},
     "output_type": "execute_result"
    }
   ],
   "source": [
    "df.corr()"
   ]
  },
  {
   "cell_type": "code",
   "execution_count": 8,
   "metadata": {
    "id": "Afx8jTXuD9Jr"
   },
   "outputs": [],
   "source": [
    "df_cat=df.select_dtypes(exclude=[np.number])"
   ]
  },
  {
   "cell_type": "code",
   "execution_count": 9,
   "metadata": {
    "colab": {
     "base_uri": "https://localhost:8080/",
     "height": 1000
    },
    "id": "D73ddc0QD61I",
    "outputId": "d3f894aa-8d27-43b5-8a27-c6b05deb181d"
   },
   "outputs": [
    {
     "name": "stdout",
     "output_type": "stream",
     "text": [
      "AxesSubplot(0.125,0.125;0.775x0.755)\n"
     ]
    },
    {
     "name": "stderr",
     "output_type": "stream",
     "text": [
      "C:\\Users\\Sneha\\anaconda3\\lib\\site-packages\\seaborn\\_decorators.py:36: FutureWarning: Pass the following variable as a keyword arg: x. From version 0.12, the only valid positional argument will be `data`, and passing other arguments without an explicit keyword will result in an error or misinterpretation.\n",
      "  warnings.warn(\n"
     ]
    },
    {
     "data": {
      "image/png": "[encoded data removed]",
      "text/plain": [
       "<Figure size 432x288 with 1 Axes>"
      ]
     },
     "metadata": {
      "needs_background": "light"
     },
     "output_type": "display_data"
    },
    {
     "name": "stderr",
     "output_type": "stream",
     "text": [
      "C:\\Users\\Sneha\\anaconda3\\lib\\site-packages\\seaborn\\_decorators.py:36: FutureWarning: Pass the following variable as a keyword arg: x. From version 0.12, the only valid positional argument will be `data`, and passing other arguments without an explicit keyword will result in an error or misinterpretation.\n",
      "  warnings.warn(\n"
     ]
    },
    {
     "name": "stdout",
     "output_type": "stream",
     "text": [
      "AxesSubplot(0.125,0.125;0.775x0.755)\n"
     ]
    },
    {
     "data": {
      "image/png": "[encoded data removed]",
      "text/plain": [
       "<Figure size 432x288 with 1 Axes>"
      ]
     },
     "metadata": {
      "needs_background": "light"
     },
     "output_type": "display_data"
    },
    {
     "name": "stderr",
     "output_type": "stream",
     "text": [
      "C:\\Users\\Sneha\\anaconda3\\lib\\site-packages\\seaborn\\_decorators.py:36: FutureWarning: Pass the following variable as a keyword arg: x. From version 0.12, the only valid positional argument will be `data`, and passing other arguments without an explicit keyword will result in an error or misinterpretation.\n",
      "  warnings.warn(\n"
     ]
    },
    {
     "name": "stdout",
     "output_type": "stream",
     "text": [
      "AxesSubplot(0.125,0.125;0.775x0.755)\n"
     ]
    },
    {
     "data": {
      "image/png": "[encoded data removed]",
      "text/plain": [
       "<Figure size 432x288 with 1 Axes>"
      ]
     },
     "metadata": {
      "needs_background": "light"
     },
     "output_type": "display_data"
    },
    {
     "name": "stderr",
     "output_type": "stream",
     "text": [
      "C:\\Users\\Sneha\\anaconda3\\lib\\site-packages\\seaborn\\_decorators.py:36: FutureWarning: Pass the following variable as a keyword arg: x. From version 0.12, the only valid positional argument will be `data`, and passing other arguments without an explicit keyword will result in an error or misinterpretation.\n",
      "  warnings.warn(\n"
     ]
    },
    {
     "name": "stdout",
     "output_type": "stream",
     "text": [
      "AxesSubplot(0.125,0.125;0.775x0.755)\n"
     ]
    },
    {
     "data": {
      "image/png": "[encoded data removed]",
      "text/plain": [
       "<Figure size 432x288 with 1 Axes>"
      ]
     },
     "metadata": {
      "needs_background": "light"
     },
     "output_type": "display_data"
    }
   ],
   "source": [
    "for i in df.columns:\n",
    "    if i not in df_cat.columns:\n",
    "        print(sns.boxplot(df[i]))\n",
    "        plt.title(f\"Boxplot of {i}\")\n",
    "        plt.show()"
   ]
  },
  {
   "cell_type": "code",
   "execution_count": 10,
   "metadata": {
    "colab": {
     "base_uri": "https://localhost:8080/",
     "height": 356
    },
    "id": "R0tzQqyTEJJt",
    "outputId": "fe3bd6f6-83b4-4ba9-f43e-2b0bc57917a7"
   },
   "outputs": [
    {
     "name": "stderr",
     "output_type": "stream",
     "text": [
      "C:\\Users\\Sneha\\AppData\\Local\\Temp\\ipykernel_3332\\3719988616.py:16: FutureWarning: Automatic reindexing on DataFrame vs Series comparisons is deprecated and will raise ValueError in a future version. Do `left, right = left.align(right, axis=1, copy=False)` before e.g. `left == right`\n",
      "  df = df[~((df < (Q1 - 1.5 * IQR)) | (df > (Q3 + 1.5 * IQR))).any(axis=1)]\n"
     ]
    }
   ],
   "source": [
    "# calculate the first quartile\n",
    "Q1 = df.quantile(0.25)\n",
    "\n",
    "# calculate the third quartile\n",
    "Q3 = df.quantile(0.75)\n",
    "\n",
    "# The Interquartile Range (IQR) is defined as the difference between the third and first quartile\n",
    "# calculate IQR for each numeric variable\n",
    "IQR = Q3 - Q1\n",
    "\n",
    "# retrieve the dataframe without the outliers\n",
    "# '~' returns the values that do not satisfy the given conditions\n",
    "# i.e. it returns values between the range [Q1-1.5*IQR, Q3+1.5*IQR]\n",
    "# '|' is used as 'OR' operator on multiple conditions\n",
    "# 'any(axis=1)' checks the entire row for atleast one 'True' entry (those rows represents outliers in the data)\n",
    "df = df[~((df < (Q1 - 1.5 * IQR)) | (df > (Q3 + 1.5 * IQR))).any(axis=1)]"
   ]
  },
  {
   "cell_type": "code",
   "execution_count": 11,
   "metadata": {
    "id": "5j0rfRblFaYr"
   },
   "outputs": [
    {
     "name": "stdout",
     "output_type": "stream",
     "text": [
      "<class 'pandas.core.frame.DataFrame'>\n",
      "Int64Index: 198 entries, 0 to 197\n",
      "Data columns (total 5 columns):\n",
      " #   Column                  Non-Null Count  Dtype \n",
      "---  ------                  --------------  ----- \n",
      " 0   CustomerID              198 non-null    int64 \n",
      " 1   Gender                  198 non-null    object\n",
      " 2   Age                     198 non-null    int64 \n",
      " 3   Annual Income (k$)      198 non-null    int64 \n",
      " 4   Spending Score (1-100)  198 non-null    int64 \n",
      "dtypes: int64(4), object(1)\n",
      "memory usage: 9.3+ KB\n"
     ]
    }
   ],
   "source": [
    "df.info()"
   ]
  },
  {
   "cell_type": "code",
   "execution_count": 12,
   "metadata": {},
   "outputs": [
    {
     "data": {
      "text/plain": [
       "(198, 5)"
      ]
     },
     "execution_count": 12,
     "metadata": {},
     "output_type": "execute_result"
    }
   ],
   "source": [
    "df.shape"
   ]
  },
  {
   "cell_type": "code",
   "execution_count": 13,
   "metadata": {},
   "outputs": [
    {
     "data": {
      "image/png": "[encoded data removed]",
      "text/plain": [
       "<Figure size 432x288 with 1 Axes>"
      ]
     },
     "metadata": {},
     "output_type": "display_data"
    }
   ],
   "source": [
    "df['Gender'].value_counts().plot(kind='pie',autopct='%1.1f%%')\n",
    "plt.xlabel('')\n",
    "plt.ylabel('')\n",
    "plt.tight_layout()\n",
    "plt.show()"
   ]
  },
  {
   "cell_type": "code",
   "execution_count": 14,
   "metadata": {},
   "outputs": [
    {
     "data": {
      "image/png": "[encoded data removed]",
      "text/plain": [
       "<Figure size 720x576 with 1 Axes>"
      ]
     },
     "metadata": {
      "needs_background": "light"
     },
     "output_type": "display_data"
    }
   ],
   "source": [
    "plt.figure(figsize=(10, 8))\n",
    "sns.countplot(x='Age', data=df, palette='viridis')\n",
    "plt.title('Frequency of Categories')\n",
    "plt.xticks(rotation=90)\n",
    "plt.xlabel('Category')\n",
    "plt.ylabel('Frequency')\n",
    "plt.show()"
   ]
  },
  {
   "cell_type": "code",
   "execution_count": 15,
   "metadata": {},
   "outputs": [
    {
     "data": {
      "image/png": "[encoded data removed]",
      "text/plain": [
       "<Figure size 720x576 with 1 Axes>"
      ]
     },
     "metadata": {
      "needs_background": "light"
     },
     "output_type": "display_data"
    }
   ],
   "source": [
    "plt.figure(figsize=(10, 8))\n",
    "sns.countplot(x='Annual Income (k$)', data=df, palette='viridis')\n",
    "plt.title('Frequency of Annual Income')\n",
    "plt.xticks(rotation=90)\n",
    "plt.xlabel('Category')\n",
    "plt.ylabel('Frequency')\n",
    "plt.show()"
   ]
  },
  {
   "cell_type": "code",
   "execution_count": 16,
   "metadata": {},
   "outputs": [
    {
     "data": {
      "image/png": "[encoded data removed]",
      "text/plain": [
       "<Figure size 720x432 with 1 Axes>"
      ]
     },
     "metadata": {
      "needs_background": "light"
     },
     "output_type": "display_data"
    }
   ],
   "source": [
    "import pandas as pd\n",
    "import matplotlib.pyplot as plt\n",
    "\n",
    "# Assuming 'data' is your DataFrame and 'column' is the column you want to analyze\n",
    "top_10_values = df['Annual Income (k$)'].value_counts().nlargest(10)\n",
    "\n",
    "plt.figure(figsize=(10, 6))\n",
    "top_10_values.plot(kind='bar', color='orange')\n",
    "plt.title('Top 10 Values in Annual Income')\n",
    "plt.xlabel('Annual Income')\n",
    "plt.ylabel('Count')\n",
    "plt.xticks(rotation=45)  # Rotate x-axis labels for better readability\n",
    "plt.tight_layout()  # Adjust layout to prevent clipping of labels\n",
    "plt.show()\n"
   ]
  },
  {
   "cell_type": "code",
   "execution_count": 17,
   "metadata": {},
   "outputs": [
    {
     "data": {
      "image/png": "[encoded data removed]",
      "text/plain": [
       "<Figure size 1080x576 with 1 Axes>"
      ]
     },
     "metadata": {
      "needs_background": "light"
     },
     "output_type": "display_data"
    }
   ],
   "source": [
    "plt.figure(figsize=(15, 8))\n",
    "sns.countplot(x='Spending Score (1-100)', data=df, palette='viridis')\n",
    "plt.title('Frequency of Spending Score')\n",
    "plt.xticks(rotation=90)\n",
    "plt.xlabel('Category')\n",
    "plt.ylabel('Frequency')\n",
    "plt.show()"
   ]
  },
  {
   "cell_type": "code",
   "execution_count": 18,
   "metadata": {},
   "outputs": [
    {
     "data": {
      "image/png": "[encoded data removed]",
      "text/plain": [
       "<Figure size 720x432 with 1 Axes>"
      ]
     },
     "metadata": {
      "needs_background": "light"
     },
     "output_type": "display_data"
    }
   ],
   "source": [
    "import pandas as pd\n",
    "import matplotlib.pyplot as plt\n",
    "\n",
    "# Assuming 'data' is your DataFrame and 'column' is the column you want to analyze\n",
    "top_10_values = df['Spending Score (1-100)'].value_counts().nlargest(10)\n",
    "\n",
    "plt.figure(figsize=(10, 6))\n",
    "top_10_values.plot(kind='bar', color='blue')\n",
    "plt.title('Top 10 Values in Annual Income')\n",
    "plt.xlabel('Annual Income')\n",
    "plt.ylabel('Count')\n",
    "plt.xticks(rotation=45)  # Rotate x-axis labels for better readability\n",
    "plt.tight_layout()  # Adjust layout to prevent clipping of labels\n",
    "plt.show()\n"
   ]
  },
  {
   "cell_type": "code",
   "execution_count": 19,
   "metadata": {},
   "outputs": [
    {
     "data": {
      "text/plain": [
       "<seaborn.axisgrid.PairGrid at 0x1a8708fb580>"
      ]
     },
     "execution_count": 19,
     "metadata": {},
     "output_type": "execute_result"
    },
    {
     "data": {
      "image/png": "[encoded data removed]",
      "text/plain": [
       "<Figure size 720x720 with 20 Axes>"
      ]
     },
     "metadata": {
      "needs_background": "light"
     },
     "output_type": "display_data"
    }
   ],
   "source": [
    "sns.pairplot(df)"
   ]
  },
  {
   "cell_type": "code",
   "execution_count": 20,
   "metadata": {},
   "outputs": [
    {
     "data": {
      "text/html": [
       "<div>\n",
       "<style scoped>\n",
       "    .dataframe tbody tr th:only-of-type {\n",
       "        vertical-align: middle;\n",
       "    }\n",
       "\n",
       "    .dataframe tbody tr th {\n",
       "        vertical-align: top;\n",
       "    }\n",
       "\n",
       "    .dataframe thead th {\n",
       "        text-align: right;\n",
       "    }\n",
       "</style>\n",
       "<table border=\"1\" class=\"dataframe\">\n",
       "  <thead>\n",
       "    <tr style=\"text-align: right;\">\n",
       "      <th></th>\n",
       "      <th>CustomerID</th>\n",
       "      <th>Age</th>\n",
       "      <th>Annual Income (k$)</th>\n",
       "      <th>Spending Score (1-100)</th>\n",
       "    </tr>\n",
       "  </thead>\n",
       "  <tbody>\n",
       "    <tr>\n",
       "      <th>CustomerID</th>\n",
       "      <td>1.000000</td>\n",
       "      <td>-0.017285</td>\n",
       "      <td>0.984367</td>\n",
       "      <td>0.013840</td>\n",
       "    </tr>\n",
       "    <tr>\n",
       "      <th>Age</th>\n",
       "      <td>-0.017285</td>\n",
       "      <td>1.000000</td>\n",
       "      <td>0.004406</td>\n",
       "      <td>-0.329421</td>\n",
       "    </tr>\n",
       "    <tr>\n",
       "      <th>Annual Income (k$)</th>\n",
       "      <td>0.984367</td>\n",
       "      <td>0.004406</td>\n",
       "      <td>1.000000</td>\n",
       "      <td>0.010080</td>\n",
       "    </tr>\n",
       "    <tr>\n",
       "      <th>Spending Score (1-100)</th>\n",
       "      <td>0.013840</td>\n",
       "      <td>-0.329421</td>\n",
       "      <td>0.010080</td>\n",
       "      <td>1.000000</td>\n",
       "    </tr>\n",
       "  </tbody>\n",
       "</table>\n",
       "</div>"
      ],
      "text/plain": [
       "                        CustomerID       Age  Annual Income (k$)  \\\n",
       "CustomerID                1.000000 -0.017285            0.984367   \n",
       "Age                      -0.017285  1.000000            0.004406   \n",
       "Annual Income (k$)        0.984367  0.004406            1.000000   \n",
       "Spending Score (1-100)    0.013840 -0.329421            0.010080   \n",
       "\n",
       "                        Spending Score (1-100)  \n",
       "CustomerID                            0.013840  \n",
       "Age                                  -0.329421  \n",
       "Annual Income (k$)                    0.010080  \n",
       "Spending Score (1-100)                1.000000  "
      ]
     },
     "execution_count": 20,
     "metadata": {},
     "output_type": "execute_result"
    }
   ],
   "source": [
    "# Select only numeric columns\n",
    "numeric_df = df.select_dtypes(include=['number'])\n",
    "\n",
    "# Compute correlation matrix\n",
    "numeric_df.corr()"
   ]
  },
  {
   "cell_type": "code",
   "execution_count": 22,
   "metadata": {},
   "outputs": [],
   "source": [
    "# Variable Categorization\n",
    "numeric_columns = df.select_dtypes(include=[np.number]).columns.tolist()\n",
    "categorical_columns = df.select_dtypes(exclude=[np.number]).columns.tolist()\n"
   ]
  },
  {
   "cell_type": "code",
   "execution_count": 23,
   "metadata": {},
   "outputs": [
    {
     "data": {
      "text/html": [
       "<div>\n",
       "<style scoped>\n",
       "    .dataframe tbody tr th:only-of-type {\n",
       "        vertical-align: middle;\n",
       "    }\n",
       "\n",
       "    .dataframe tbody tr th {\n",
       "        vertical-align: top;\n",
       "    }\n",
       "\n",
       "    .dataframe thead th {\n",
       "        text-align: right;\n",
       "    }\n",
       "</style>\n",
       "<table border=\"1\" class=\"dataframe\">\n",
       "  <thead>\n",
       "    <tr style=\"text-align: right;\">\n",
       "      <th></th>\n",
       "      <th>Age</th>\n",
       "      <th>Annual Income (k$)</th>\n",
       "      <th>Spending Score (1-100)</th>\n",
       "    </tr>\n",
       "  </thead>\n",
       "  <tbody>\n",
       "    <tr>\n",
       "      <th>0</th>\n",
       "      <td>19</td>\n",
       "      <td>15</td>\n",
       "      <td>39</td>\n",
       "    </tr>\n",
       "    <tr>\n",
       "      <th>1</th>\n",
       "      <td>21</td>\n",
       "      <td>15</td>\n",
       "      <td>81</td>\n",
       "    </tr>\n",
       "    <tr>\n",
       "      <th>2</th>\n",
       "      <td>20</td>\n",
       "      <td>16</td>\n",
       "      <td>6</td>\n",
       "    </tr>\n",
       "    <tr>\n",
       "      <th>3</th>\n",
       "      <td>23</td>\n",
       "      <td>16</td>\n",
       "      <td>77</td>\n",
       "    </tr>\n",
       "    <tr>\n",
       "      <th>4</th>\n",
       "      <td>31</td>\n",
       "      <td>17</td>\n",
       "      <td>40</td>\n",
       "    </tr>\n",
       "  </tbody>\n",
       "</table>\n",
       "</div>"
      ],
      "text/plain": [
       "   Age  Annual Income (k$)  Spending Score (1-100)\n",
       "0   19                  15                      39\n",
       "1   21                  15                      81\n",
       "2   20                  16                       6\n",
       "3   23                  16                      77\n",
       "4   31                  17                      40"
      ]
     },
     "execution_count": 23,
     "metadata": {},
     "output_type": "execute_result"
    }
   ],
   "source": [
    "# pass the list of variables to the drop()\n",
    "# 'axis = 1' drops the specified column\n",
    "df_feat = df.drop([\"CustomerID\", \"Gender\"], axis = 1)\n",
    "\n",
    "# check the first five observations\n",
    "df_feat.head()"
   ]
  },
  {
   "cell_type": "code",
   "execution_count": 24,
   "metadata": {},
   "outputs": [],
   "source": [
    "from sklearn.preprocessing import StandardScaler"
   ]
  },
  {
   "cell_type": "code",
   "execution_count": 25,
   "metadata": {},
   "outputs": [
    {
     "data": {
      "text/plain": [
       "array([[-1.42541358, -1.77917141, -0.43598941],\n",
       "       [-1.2823665 , -1.77917141,  1.19941337],\n",
       "       [-1.35389004, -1.73944701, -1.72094874],\n",
       "       [-1.13931942, -1.73944701,  1.04366072],\n",
       "       [-0.5671311 , -1.69972262, -0.39705125],\n",
       "       [-1.21084296, -1.69972262,  1.00472256],\n",
       "       [-0.28103694, -1.65999822, -1.72094874],\n",
       "       [-1.13931942, -1.65999822,  1.70560947],\n",
       "       [ 1.79314572, -1.62027383, -1.83776323],\n",
       "       [-0.63865464, -1.62027383,  0.84896992],\n",
       "       [ 2.00771635, -1.62027383, -1.40944345],\n",
       "       [-0.28103694, -1.62027383,  1.90030028],\n",
       "       [ 1.36400448, -1.58054943, -1.37050529],\n",
       "       [-1.06779588, -1.58054943,  1.04366072],\n",
       "       [-0.13798986, -1.58054943, -1.44838161],\n",
       "       [-1.21084296, -1.58054943,  1.12153705],\n",
       "       [-0.28103694, -1.54082504, -0.59174206],\n",
       "       [-1.35389004, -1.54082504,  0.61534095],\n",
       "       [ 0.93486324, -1.46137625, -0.82537103],\n",
       "       [-0.28103694, -1.46137625,  1.86136212],\n",
       "       [-0.28103694, -1.42165185, -0.59174206],\n",
       "       [-0.99627234, -1.42165185,  0.88790808],\n",
       "       [ 0.505722  , -1.38192745, -1.75988691],\n",
       "       [-0.5671311 , -1.38192745,  0.88790808],\n",
       "       [ 1.07791032, -1.26275427, -1.40944345],\n",
       "       [-0.71017818, -1.26275427,  1.23835153],\n",
       "       [ 0.43419846, -1.26275427, -0.70855655],\n",
       "       [-0.28103694, -1.26275427,  0.42065014],\n",
       "       [ 0.07658076, -1.22302987, -0.74749471],\n",
       "       [-1.13931942, -1.22302987,  1.43304234],\n",
       "       [ 1.50705156, -1.18330548, -1.79882507],\n",
       "       [-1.2823665 , -1.18330548,  0.88790808],\n",
       "       [ 1.00638678, -1.06413229, -1.79882507],\n",
       "       [-1.49693712, -1.06413229,  1.62773315],\n",
       "       [ 0.72029262, -1.06413229, -1.40944345],\n",
       "       [-1.2823665 , -1.06413229,  1.19941337],\n",
       "       [ 0.21962784, -1.0244079 , -1.29262897],\n",
       "       [-0.63865464, -1.0244079 ,  0.88790808],\n",
       "       [-0.2095134 , -0.90523471, -0.94218551],\n",
       "       [-1.35389004, -0.90523471,  0.9657844 ],\n",
       "       [ 1.86466927, -0.86551031, -0.59174206],\n",
       "       [-1.06779588, -0.86551031,  1.62773315],\n",
       "       [ 0.64876908, -0.82578592, -0.5528039 ],\n",
       "       [-0.5671311 , -0.82578592,  0.42065014],\n",
       "       [ 0.72029262, -0.82578592, -0.86430919],\n",
       "       [-1.06779588, -0.82578592,  0.57640278],\n",
       "       [ 0.79181616, -0.78606152,  0.18702117],\n",
       "       [-0.85322526, -0.78606152, -0.12448412],\n",
       "       [-0.71017818, -0.78606152, -0.31917493],\n",
       "       [-0.5671311 , -0.78606152, -0.31917493],\n",
       "       [ 0.72029262, -0.70661273,  0.07020669],\n",
       "       [-0.42408402, -0.70661273,  0.38171198],\n",
       "       [-0.5671311 , -0.66688834,  0.14808301],\n",
       "       [ 1.43552802, -0.66688834,  0.38171198],\n",
       "       [ 0.79181616, -0.66688834, -0.20236045],\n",
       "       [ 0.57724554, -0.66688834, -0.35811309],\n",
       "       [ 0.8633397 , -0.62716394, -0.00766964],\n",
       "       [ 2.15076343, -0.62716394, -0.16342228],\n",
       "       [-0.85322526, -0.54771515,  0.03126852],\n",
       "       [ 1.00638678, -0.54771515, -0.16342228],\n",
       "       [ 2.22228697, -0.54771515,  0.22595933],\n",
       "       [-1.42541358, -0.54771515,  0.18702117],\n",
       "       [ 2.00771635, -0.50799075,  0.07020669],\n",
       "       [ 1.07791032, -0.50799075,  0.34277382],\n",
       "       [ 1.72162218, -0.46826636,  0.03126852],\n",
       "       [-1.49693712, -0.46826636,  0.34277382],\n",
       "       [ 0.29115138, -0.46826636, -0.00766964],\n",
       "       [ 2.07923989, -0.46826636, -0.08554596],\n",
       "       [-1.42541358, -0.46826636,  0.34277382],\n",
       "       [-0.49560756, -0.46826636, -0.12448412],\n",
       "       [ 2.22228697, -0.42854196,  0.18702117],\n",
       "       [ 0.57724554, -0.42854196, -0.31917493],\n",
       "       [ 1.50705156, -0.38881757, -0.0466078 ],\n",
       "       [ 1.50705156, -0.38881757,  0.22595933],\n",
       "       [ 1.43552802, -0.22991999, -0.12448412],\n",
       "       [-0.9247488 , -0.22991999,  0.14808301],\n",
       "       [ 0.43419846, -0.22991999,  0.10914485],\n",
       "       [ 0.07658076, -0.22991999, -0.08554596],\n",
       "       [-1.13931942, -0.22991999,  0.07020669],\n",
       "       [ 0.72029262, -0.22991999, -0.31917493],\n",
       "       [ 1.29248094, -0.22991999,  0.03126852],\n",
       "       [-0.06646632, -0.22991999,  0.18702117],\n",
       "       [ 2.00771635, -0.22991999, -0.35811309],\n",
       "       [ 0.505722  , -0.22991999, -0.24129861],\n",
       "       [-1.2823665 , -0.22991999,  0.26489749],\n",
       "       [ 0.64876908, -0.22991999, -0.16342228],\n",
       "       [ 1.14943386, -0.1107468 ,  0.30383565],\n",
       "       [-1.21084296, -0.1107468 ,  0.18702117],\n",
       "       [-0.35256048, -0.0710224 ,  0.38171198],\n",
       "       [ 0.79181616, -0.0710224 , -0.16342228],\n",
       "       [ 2.07923989, -0.03129801,  0.18702117],\n",
       "       [-1.49693712, -0.03129801, -0.35811309],\n",
       "       [ 0.64876908,  0.00842639, -0.0466078 ],\n",
       "       [ 0.07658076,  0.00842639, -0.39705125],\n",
       "       [-0.49560756,  0.00842639, -0.31917493],\n",
       "       [-1.06779588,  0.00842639,  0.07020669],\n",
       "       [ 0.57724554,  0.00842639, -0.12448412],\n",
       "       [-0.85322526,  0.00842639, -0.00766964],\n",
       "       [ 0.64876908,  0.04815078, -0.31917493],\n",
       "       [-1.35389004,  0.04815078, -0.0466078 ],\n",
       "       [-1.13931942,  0.08787518, -0.35811309],\n",
       "       [ 0.72029262,  0.08787518, -0.08554596],\n",
       "       [ 2.00771635,  0.08787518,  0.34277382],\n",
       "       [-0.9247488 ,  0.08787518,  0.18702117],\n",
       "       [ 0.72029262,  0.08787518,  0.22595933],\n",
       "       [-1.2823665 ,  0.08787518, -0.31917493],\n",
       "       [ 1.93619281,  0.12759957, -0.00766964],\n",
       "       [ 1.07791032,  0.12759957, -0.16342228],\n",
       "       [ 2.07923989,  0.12759957, -0.28023677],\n",
       "       [ 1.93619281,  0.12759957, -0.08554596],\n",
       "       [ 1.86466927,  0.12759957,  0.07020669],\n",
       "       [-1.42541358,  0.12759957,  0.14808301],\n",
       "       [-0.06646632,  0.16732397, -0.31917493],\n",
       "       [-1.42541358,  0.16732397, -0.16342228],\n",
       "       [-1.49693712,  0.20704836, -0.08554596],\n",
       "       [-1.42541358,  0.20704836, -0.00766964],\n",
       "       [ 1.72162218,  0.20704836, -0.28023677],\n",
       "       [ 0.72029262,  0.20704836,  0.34277382],\n",
       "       [ 0.8633397 ,  0.28649716, -0.28023677],\n",
       "       [ 0.79181616,  0.28649716,  0.26489749],\n",
       "       [-0.85322526,  0.28649716,  0.22595933],\n",
       "       [-0.06646632,  0.28649716, -0.39705125],\n",
       "       [ 0.07658076,  0.36594595,  0.30383565],\n",
       "       [ 0.00505722,  0.36594595,  1.58879498],\n",
       "       [-1.13931942,  0.40567034, -0.82537103],\n",
       "       [-0.5671311 ,  0.40567034,  1.04366072],\n",
       "       [ 0.29115138,  0.44539474, -0.59174206],\n",
       "       [ 0.07658076,  0.44539474,  1.74454763],\n",
       "       [ 1.43552802,  0.44539474, -1.52625794],\n",
       "       [-0.06646632,  0.44539474,  0.9657844 ],\n",
       "       [ 0.57724554,  0.44539474, -1.60413426],\n",
       "       [ 0.00505722,  0.44539474,  0.9657844 ],\n",
       "       [-0.99627234,  0.48511913, -0.63068022],\n",
       "       [-0.5671311 ,  0.48511913,  0.81003175],\n",
       "       [-1.35389004,  0.52484353, -1.75988691],\n",
       "       [-0.71017818,  0.52484353,  1.4719805 ],\n",
       "       [ 0.36267492,  0.52484353, -1.68201058],\n",
       "       [-0.49560756,  0.52484353,  0.88790808],\n",
       "       [-1.42541358,  0.56456792, -1.5651961 ],\n",
       "       [-0.28103694,  0.56456792,  0.84896992],\n",
       "       [ 1.29248094,  0.60429232, -1.75988691],\n",
       "       [-0.49560756,  0.60429232,  1.66667131],\n",
       "       [-0.78170172,  0.64401671, -0.39705125],\n",
       "       [-0.49560756,  0.64401671,  1.43304234],\n",
       "       [-0.99627234,  0.68374111, -1.48731978],\n",
       "       [-0.78170172,  0.68374111,  1.82242395],\n",
       "       [ 0.64876908,  0.68374111, -0.5528039 ],\n",
       "       [-0.49560756,  0.68374111,  0.92684624],\n",
       "       [-0.35256048,  0.72346551, -1.09793816],\n",
       "       [-0.35256048,  0.72346551,  1.54985682],\n",
       "       [ 0.29115138,  0.72346551, -1.29262897],\n",
       "       [ 0.00505722,  0.72346551,  1.4719805 ],\n",
       "       [ 0.36267492,  0.72346551, -1.17581448],\n",
       "       [-0.06646632,  0.72346551,  1.00472256],\n",
       "       [ 0.57724554,  0.72346551, -1.33156713],\n",
       "       [-0.85322526,  0.72346551,  1.51091866],\n",
       "       [-0.13798986,  0.72346551, -1.91563955],\n",
       "       [-0.63865464,  0.72346551,  1.08259888],\n",
       "       [-0.35256048,  0.72346551, -1.91563955],\n",
       "       [-0.63865464,  0.72346551,  0.88790808],\n",
       "       [ 1.2209574 ,  0.7631899 , -0.59174206],\n",
       "       [-0.71017818,  0.7631899 ,  1.27728969],\n",
       "       [-1.42541358,  0.84263869, -1.75988691],\n",
       "       [-0.5671311 ,  0.84263869,  1.66667131],\n",
       "       [ 0.79181616,  1.00153627, -0.94218551],\n",
       "       [-0.2095134 ,  1.00153627,  0.9657844 ],\n",
       "       [ 0.21962784,  1.04126067, -1.17581448],\n",
       "       [-0.42408402,  1.04126067,  1.74454763],\n",
       "       [-0.2095134 ,  1.08098506, -0.90324735],\n",
       "       [-0.49560756,  1.08098506,  0.49852646],\n",
       "       [ 0.07658076,  1.08098506, -1.44838161],\n",
       "       [-0.78170172,  1.08098506,  0.9657844 ],\n",
       "       [-0.2095134 ,  1.08098506, -1.5651961 ],\n",
       "       [-0.2095134 ,  1.08098506,  1.62773315],\n",
       "       [ 0.93486324,  1.12070946, -1.44838161],\n",
       "       [-0.63865464,  1.12070946,  1.39410418],\n",
       "       [ 1.36400448,  1.12070946, -1.37050529],\n",
       "       [-0.85322526,  1.12070946,  0.73215543],\n",
       "       [ 1.43552802,  1.31933144, -1.40944345],\n",
       "       [-0.28103694,  1.31933144,  1.54985682],\n",
       "       [-0.13798986,  1.47822902, -0.70855655],\n",
       "       [-0.49560756,  1.47822902,  1.39410418],\n",
       "       [ 0.505722  ,  1.51795342, -1.37050529],\n",
       "       [-0.71017818,  1.51795342,  1.4719805 ],\n",
       "       [ 0.1481043 ,  1.55767781, -0.43598941],\n",
       "       [-0.63865464,  1.55767781,  1.82242395],\n",
       "       [ 1.07791032,  1.6371266 , -1.02006184],\n",
       "       [-0.78170172,  1.6371266 ,  0.69321727],\n",
       "       [ 0.1481043 ,  1.71657539, -1.29262897],\n",
       "       [-0.2095134 ,  1.71657539,  1.35516602],\n",
       "       [-0.35256048,  1.71657539, -1.059     ],\n",
       "       [-0.49560756,  1.71657539,  0.73215543],\n",
       "       [-0.42408402,  2.11381935, -1.64307242],\n",
       "       [-0.06646632,  2.11381935,  1.58879498],\n",
       "       [ 0.57724554,  2.39189012, -1.33156713],\n",
       "       [-0.28103694,  2.39189012,  1.12153705],\n",
       "       [ 0.43419846,  2.63023649, -0.86430919],\n",
       "       [-0.49560756,  2.63023649,  0.92684624]])"
      ]
     },
     "execution_count": 25,
     "metadata": {},
     "output_type": "execute_result"
    }
   ],
   "source": [
    "# use 'StandardScaler' to transform data into standard form\n",
    "# store the transformed data in the variable 'scaled_features' \n",
    "scaled_features= StandardScaler().fit_transform(df_feat)\n",
    "\n",
    "# to print 'scaled_features'\n",
    "scaled_features"
   ]
  },
  {
   "cell_type": "code",
   "execution_count": 26,
   "metadata": {},
   "outputs": [
    {
     "data": {
      "text/html": [
       "<div>\n",
       "<style scoped>\n",
       "    .dataframe tbody tr th:only-of-type {\n",
       "        vertical-align: middle;\n",
       "    }\n",
       "\n",
       "    .dataframe tbody tr th {\n",
       "        vertical-align: top;\n",
       "    }\n",
       "\n",
       "    .dataframe thead th {\n",
       "        text-align: right;\n",
       "    }\n",
       "</style>\n",
       "<table border=\"1\" class=\"dataframe\">\n",
       "  <thead>\n",
       "    <tr style=\"text-align: right;\">\n",
       "      <th></th>\n",
       "      <th>Age</th>\n",
       "      <th>Annual Income (k$)</th>\n",
       "      <th>Spending Score (1-100)</th>\n",
       "    </tr>\n",
       "  </thead>\n",
       "  <tbody>\n",
       "    <tr>\n",
       "      <th>count</th>\n",
       "      <td>198.0</td>\n",
       "      <td>198.0</td>\n",
       "      <td>198.0</td>\n",
       "    </tr>\n",
       "    <tr>\n",
       "      <th>mean</th>\n",
       "      <td>0.0</td>\n",
       "      <td>0.0</td>\n",
       "      <td>0.0</td>\n",
       "    </tr>\n",
       "    <tr>\n",
       "      <th>std</th>\n",
       "      <td>1.0</td>\n",
       "      <td>1.0</td>\n",
       "      <td>1.0</td>\n",
       "    </tr>\n",
       "    <tr>\n",
       "      <th>min</th>\n",
       "      <td>-1.0</td>\n",
       "      <td>-2.0</td>\n",
       "      <td>-2.0</td>\n",
       "    </tr>\n",
       "    <tr>\n",
       "      <th>25%</th>\n",
       "      <td>-1.0</td>\n",
       "      <td>-1.0</td>\n",
       "      <td>-1.0</td>\n",
       "    </tr>\n",
       "    <tr>\n",
       "      <th>50%</th>\n",
       "      <td>-0.0</td>\n",
       "      <td>0.0</td>\n",
       "      <td>-0.0</td>\n",
       "    </tr>\n",
       "    <tr>\n",
       "      <th>75%</th>\n",
       "      <td>1.0</td>\n",
       "      <td>1.0</td>\n",
       "      <td>1.0</td>\n",
       "    </tr>\n",
       "    <tr>\n",
       "      <th>max</th>\n",
       "      <td>2.0</td>\n",
       "      <td>3.0</td>\n",
       "      <td>2.0</td>\n",
       "    </tr>\n",
       "  </tbody>\n",
       "</table>\n",
       "</div>"
      ],
      "text/plain": [
       "         Age  Annual Income (k$)  Spending Score (1-100)\n",
       "count  198.0               198.0                   198.0\n",
       "mean     0.0                 0.0                     0.0\n",
       "std      1.0                 1.0                     1.0\n",
       "min     -1.0                -2.0                    -2.0\n",
       "25%     -1.0                -1.0                    -1.0\n",
       "50%     -0.0                 0.0                    -0.0\n",
       "75%      1.0                 1.0                     1.0\n",
       "max      2.0                 3.0                     2.0"
      ]
     },
     "execution_count": 26,
     "metadata": {},
     "output_type": "execute_result"
    }
   ],
   "source": [
    "summary = pd.DataFrame(scaled_features, columns = df_feat.columns)\n",
    "\n",
    "# print the summary statistics\n",
    "# use 'round()' to round-off the values to integers\n",
    "round(summary.describe())"
   ]
  },
  {
   "cell_type": "code",
   "execution_count": 32,
   "metadata": {},
   "outputs": [],
   "source": [
    "from sklearn.cluster import KMeans\n",
    "from sklearn.metrics import silhouette_score"
   ]
  },
  {
   "cell_type": "code",
   "execution_count": 33,
   "metadata": {},
   "outputs": [
    {
     "name": "stderr",
     "output_type": "stream",
     "text": [
      "C:\\Users\\Sneha\\anaconda3\\lib\\site-packages\\sklearn\\cluster\\_kmeans.py:1036: UserWarning: KMeans is known to have a memory leak on Windows with MKL, when there are less chunks than available threads. You can avoid it by setting the environment variable OMP_NUM_THREADS=1.\n",
      "  warnings.warn(\n"
     ]
    },
    {
     "name": "stdout",
     "output_type": "stream",
     "text": [
      "[594.0, 385.28045294960293, 291.690873050862, 202.69707701808602, 164.20847133144312, 128.64249874250424, 112.1419495780195]\n"
     ]
    }
   ],
   "source": [
    "wcss = []\n",
    "\n",
    "# pass the range to iterate the value of k\n",
    "# last number in the range() is exclusive\n",
    "for k in range(1,8):\n",
    "    \n",
    "    # fit K-means clustering with number of clusters K\n",
    "    kmeans = KMeans(n_clusters=k)\n",
    "    kmeans.fit(scaled_features)\n",
    "    \n",
    "    # use 'inertia_' to get wcss \n",
    "    # append the value of WCSS for each K to the list 'wcss'\n",
    "    wcss.append(kmeans.inertia_)\n",
    "\n",
    "# print the within cluster sum of squares\n",
    "print(wcss)"
   ]
  },
  {
   "cell_type": "code",
   "execution_count": 34,
   "metadata": {},
   "outputs": [
    {
     "data": {
      "image/png": "[encoded data removed]",
      "text/plain": [
       "<Figure size 1080x576 with 1 Axes>"
      ]
     },
     "metadata": {},
     "output_type": "display_data"
    }
   ],
   "source": [
    "# visualize the elbow plot to get the optimal value of K\n",
    "\n",
    "# set the plot style \n",
    "plt.style.use(\"fivethirtyeight\")\n",
    "\n",
    "# set the plot size using 'figsize'\n",
    "plt.figure(figsize=(15,8))\n",
    "\n",
    "# plot the elbow plot\n",
    "# pass the values for K and WCSS\n",
    "# last number in the range() is exclusive\n",
    "plt.plot(range(1,8), wcss) \n",
    "\n",
    "# set the axes and plot labels\n",
    "plt.xlabel(\"Number of Clusters\")\n",
    "plt.title('Scree Plot for Optimal Number of Clusters')\n",
    "plt.ylabel(\"WCSS\")\n",
    "\n",
    "# display the plot\n",
    "plt.show()"
   ]
  },
  {
   "cell_type": "code",
   "execution_count": 37,
   "metadata": {},
   "outputs": [
    {
     "data": {
      "text/plain": [
       "KMeans(max_iter=200, n_clusters=4, random_state=15, tol=0.001)"
      ]
     },
     "execution_count": 37,
     "metadata": {},
     "output_type": "execute_result"
    }
   ],
   "source": [
    "# we fit k means clustering algorithm with k=3\n",
    "# number of clusters to form is given by 'n_clusters'\n",
    "# pass the 'random_state' to consider the same centroid initialization over multiple code runs\n",
    "# maximum number of iterations of the k-means algorithm for a single run is given by 'max_iter'\n",
    "# pass the relative tolerance to declare the convergence of algrithm to 'tol'\n",
    "Kmeans3=KMeans(n_clusters = 4, random_state = 15, max_iter = 200, tol = 0.001)\n",
    "\n",
    "# fit the model on the scaled data\n",
    "Kmeans3.fit(scaled_features)"
   ]
  },
  {
   "cell_type": "code",
   "execution_count": 38,
   "metadata": {},
   "outputs": [
    {
     "data": {
      "text/plain": [
       "cluster\n",
       "0    65\n",
       "1    37\n",
       "2    39\n",
       "3    57\n",
       "dtype: int64"
      ]
     },
     "execution_count": 38,
     "metadata": {},
     "output_type": "execute_result"
    }
   ],
   "source": [
    "# store the lables in 'result'\n",
    "result = Kmeans3.labels_\n",
    "\n",
    "# create a dataframe of cluster labels\n",
    "# pass the column name to the parameter 'cluster'\n",
    "result = pd.DataFrame(result, columns = [\"cluster\"])\n",
    "\n",
    "# group the data based on cluster labels and get size of each cluster\n",
    "obs = result.groupby('cluster').size()\n",
    "\n",
    "# print the cluster size\n",
    "obs"
   ]
  },
  {
   "cell_type": "code",
   "execution_count": 40,
   "metadata": {},
   "outputs": [
    {
     "data": {
      "image/png": "[encoded data removed]",
      "text/plain": [
       "<Figure size 1080x576 with 1 Axes>"
      ]
     },
     "metadata": {},
     "output_type": "display_data"
    }
   ],
   "source": [
    "# plot the number of observations in each cluster\n",
    "\n",
    "# select style of histogram\n",
    "plt.style.use(\"fivethirtyeight\")\n",
    "\n",
    "# set the figure size using 'figsize'\n",
    "plt.figure(figsize=(15,8))\n",
    "\n",
    "# plot the barplot of number of observations in each cluster\n",
    "# last number in the range() is exclusive\n",
    "plt.bar(range(1,5), obs)\n",
    "\n",
    "# set the plot and axes labels\n",
    "plt.title('Cluster Size')\n",
    "plt.xlabel('Number of Clusters')\n",
    "plt.ylabel('Number of Observations')\n",
    "\n",
    "# to show the barplot\n",
    "plt.show()"
   ]
  },
  {
   "cell_type": "code",
   "execution_count": 41,
   "metadata": {},
   "outputs": [
    {
     "data": {
      "text/html": [
       "<div>\n",
       "<style scoped>\n",
       "    .dataframe tbody tr th:only-of-type {\n",
       "        vertical-align: middle;\n",
       "    }\n",
       "\n",
       "    .dataframe tbody tr th {\n",
       "        vertical-align: top;\n",
       "    }\n",
       "\n",
       "    .dataframe thead th {\n",
       "        text-align: right;\n",
       "    }\n",
       "</style>\n",
       "<table border=\"1\" class=\"dataframe\">\n",
       "  <thead>\n",
       "    <tr style=\"text-align: right;\">\n",
       "      <th></th>\n",
       "      <th>Age</th>\n",
       "      <th>Annual Income (k$)</th>\n",
       "      <th>Spending Score (1-100)</th>\n",
       "    </tr>\n",
       "  </thead>\n",
       "  <tbody>\n",
       "    <tr>\n",
       "      <th>0</th>\n",
       "      <td>1.076810</td>\n",
       "      <td>-0.479878</td>\n",
       "      <td>-0.398249</td>\n",
       "    </tr>\n",
       "    <tr>\n",
       "      <th>1</th>\n",
       "      <td>0.045652</td>\n",
       "      <td>1.006904</td>\n",
       "      <td>-1.190548</td>\n",
       "    </tr>\n",
       "    <tr>\n",
       "      <th>2</th>\n",
       "      <td>-0.427752</td>\n",
       "      <td>0.993388</td>\n",
       "      <td>1.218383</td>\n",
       "    </tr>\n",
       "    <tr>\n",
       "      <th>3</th>\n",
       "      <td>-0.964902</td>\n",
       "      <td>-0.786062</td>\n",
       "      <td>0.393325</td>\n",
       "    </tr>\n",
       "  </tbody>\n",
       "</table>\n",
       "</div>"
      ],
      "text/plain": [
       "        Age  Annual Income (k$)  Spending Score (1-100)\n",
       "0  1.076810           -0.479878               -0.398249\n",
       "1  0.045652            1.006904               -1.190548\n",
       "2 -0.427752            0.993388                1.218383\n",
       "3 -0.964902           -0.786062                0.393325"
      ]
     },
     "execution_count": 41,
     "metadata": {},
     "output_type": "execute_result"
    }
   ],
   "source": [
    "# 'cluster_centers_' returns the centroids of each cluster\n",
    "centroids=Kmeans3.cluster_centers_\n",
    "\n",
    "# create a dataframe of centroids\n",
    "# pass the column names to 'columns'\n",
    "centroids=pd.DataFrame(centroids, columns = df_feat.columns)\n",
    "\n",
    "# print the centroids\n",
    "centroids"
   ]
  },
  {
   "cell_type": "code",
   "execution_count": 43,
   "metadata": {},
   "outputs": [
    {
     "data": {
      "text/html": [
       "<div>\n",
       "<style scoped>\n",
       "    .dataframe tbody tr th:only-of-type {\n",
       "        vertical-align: middle;\n",
       "    }\n",
       "\n",
       "    .dataframe tbody tr th {\n",
       "        vertical-align: top;\n",
       "    }\n",
       "\n",
       "    .dataframe thead th {\n",
       "        text-align: right;\n",
       "    }\n",
       "</style>\n",
       "<table border=\"1\" class=\"dataframe\">\n",
       "  <thead>\n",
       "    <tr style=\"text-align: right;\">\n",
       "      <th></th>\n",
       "      <th>CustomerID</th>\n",
       "      <th>Gender</th>\n",
       "      <th>Age</th>\n",
       "      <th>Annual Income (k$)</th>\n",
       "      <th>Spending Score (1-100)</th>\n",
       "    </tr>\n",
       "  </thead>\n",
       "  <tbody>\n",
       "    <tr>\n",
       "      <th>6</th>\n",
       "      <td>7</td>\n",
       "      <td>Female</td>\n",
       "      <td>35</td>\n",
       "      <td>18</td>\n",
       "      <td>6</td>\n",
       "    </tr>\n",
       "    <tr>\n",
       "      <th>8</th>\n",
       "      <td>9</td>\n",
       "      <td>Male</td>\n",
       "      <td>64</td>\n",
       "      <td>19</td>\n",
       "      <td>3</td>\n",
       "    </tr>\n",
       "    <tr>\n",
       "      <th>10</th>\n",
       "      <td>11</td>\n",
       "      <td>Male</td>\n",
       "      <td>67</td>\n",
       "      <td>19</td>\n",
       "      <td>14</td>\n",
       "    </tr>\n",
       "    <tr>\n",
       "      <th>12</th>\n",
       "      <td>13</td>\n",
       "      <td>Female</td>\n",
       "      <td>58</td>\n",
       "      <td>20</td>\n",
       "      <td>15</td>\n",
       "    </tr>\n",
       "    <tr>\n",
       "      <th>14</th>\n",
       "      <td>15</td>\n",
       "      <td>Male</td>\n",
       "      <td>37</td>\n",
       "      <td>20</td>\n",
       "      <td>13</td>\n",
       "    </tr>\n",
       "  </tbody>\n",
       "</table>\n",
       "</div>"
      ],
      "text/plain": [
       "    CustomerID  Gender  Age  Annual Income (k$)  Spending Score (1-100)\n",
       "6            7  Female   35                  18                       6\n",
       "8            9    Male   64                  19                       3\n",
       "10          11    Male   67                  19                      14\n",
       "12          13  Female   58                  20                      15\n",
       "14          15    Male   37                  20                      13"
      ]
     },
     "execution_count": 43,
     "metadata": {},
     "output_type": "execute_result"
    }
   ],
   "source": [
    "# store the observations belonging to cluster 1 in d1\n",
    "d1=df[Kmeans3.labels_ == 0]\n",
    "\n",
    "# print the first five observations\n",
    "d1.head()"
   ]
  },
  {
   "cell_type": "code",
   "execution_count": 44,
   "metadata": {},
   "outputs": [
    {
     "data": {
      "text/html": [
       "<div>\n",
       "<style scoped>\n",
       "    .dataframe tbody tr th:only-of-type {\n",
       "        vertical-align: middle;\n",
       "    }\n",
       "\n",
       "    .dataframe tbody tr th {\n",
       "        vertical-align: top;\n",
       "    }\n",
       "\n",
       "    .dataframe thead th {\n",
       "        text-align: right;\n",
       "    }\n",
       "</style>\n",
       "<table border=\"1\" class=\"dataframe\">\n",
       "  <thead>\n",
       "    <tr style=\"text-align: right;\">\n",
       "      <th></th>\n",
       "      <th>CustomerID</th>\n",
       "      <th>Age</th>\n",
       "      <th>Annual Income (k$)</th>\n",
       "      <th>Spending Score (1-100)</th>\n",
       "    </tr>\n",
       "  </thead>\n",
       "  <tbody>\n",
       "    <tr>\n",
       "      <th>count</th>\n",
       "      <td>65.000000</td>\n",
       "      <td>65.000000</td>\n",
       "      <td>65.000000</td>\n",
       "      <td>65.000000</td>\n",
       "    </tr>\n",
       "    <tr>\n",
       "      <th>mean</th>\n",
       "      <td>69.415385</td>\n",
       "      <td>53.984615</td>\n",
       "      <td>47.707692</td>\n",
       "      <td>39.969231</td>\n",
       "    </tr>\n",
       "    <tr>\n",
       "      <th>std</th>\n",
       "      <td>34.295541</td>\n",
       "      <td>9.418221</td>\n",
       "      <td>14.648723</td>\n",
       "      <td>16.405953</td>\n",
       "    </tr>\n",
       "    <tr>\n",
       "      <th>min</th>\n",
       "      <td>7.000000</td>\n",
       "      <td>35.000000</td>\n",
       "      <td>18.000000</td>\n",
       "      <td>3.000000</td>\n",
       "    </tr>\n",
       "    <tr>\n",
       "      <th>25%</th>\n",
       "      <td>43.000000</td>\n",
       "      <td>48.000000</td>\n",
       "      <td>39.000000</td>\n",
       "      <td>32.000000</td>\n",
       "    </tr>\n",
       "    <tr>\n",
       "      <th>50%</th>\n",
       "      <td>71.000000</td>\n",
       "      <td>52.000000</td>\n",
       "      <td>49.000000</td>\n",
       "      <td>46.000000</td>\n",
       "    </tr>\n",
       "    <tr>\n",
       "      <th>75%</th>\n",
       "      <td>94.000000</td>\n",
       "      <td>63.000000</td>\n",
       "      <td>60.000000</td>\n",
       "      <td>51.000000</td>\n",
       "    </tr>\n",
       "    <tr>\n",
       "      <th>max</th>\n",
       "      <td>161.000000</td>\n",
       "      <td>70.000000</td>\n",
       "      <td>79.000000</td>\n",
       "      <td>60.000000</td>\n",
       "    </tr>\n",
       "  </tbody>\n",
       "</table>\n",
       "</div>"
      ],
      "text/plain": [
       "       CustomerID        Age  Annual Income (k$)  Spending Score (1-100)\n",
       "count   65.000000  65.000000           65.000000               65.000000\n",
       "mean    69.415385  53.984615           47.707692               39.969231\n",
       "std     34.295541   9.418221           14.648723               16.405953\n",
       "min      7.000000  35.000000           18.000000                3.000000\n",
       "25%     43.000000  48.000000           39.000000               32.000000\n",
       "50%     71.000000  52.000000           49.000000               46.000000\n",
       "75%     94.000000  63.000000           60.000000               51.000000\n",
       "max    161.000000  70.000000           79.000000               60.000000"
      ]
     },
     "execution_count": 44,
     "metadata": {},
     "output_type": "execute_result"
    }
   ],
   "source": [
    "# statistical summary of the observations in 1st cluster\n",
    "d1.describe()"
   ]
  },
  {
   "cell_type": "code",
   "execution_count": 46,
   "metadata": {},
   "outputs": [
    {
     "data": {
      "text/html": [
       "<div>\n",
       "<style scoped>\n",
       "    .dataframe tbody tr th:only-of-type {\n",
       "        vertical-align: middle;\n",
       "    }\n",
       "\n",
       "    .dataframe tbody tr th {\n",
       "        vertical-align: top;\n",
       "    }\n",
       "\n",
       "    .dataframe thead th {\n",
       "        text-align: right;\n",
       "    }\n",
       "</style>\n",
       "<table border=\"1\" class=\"dataframe\">\n",
       "  <thead>\n",
       "    <tr style=\"text-align: right;\">\n",
       "      <th></th>\n",
       "      <th>CustomerID</th>\n",
       "      <th>Gender</th>\n",
       "      <th>Age</th>\n",
       "      <th>Annual Income (k$)</th>\n",
       "      <th>Spending Score (1-100)</th>\n",
       "    </tr>\n",
       "  </thead>\n",
       "  <tbody>\n",
       "    <tr>\n",
       "      <th>112</th>\n",
       "      <td>113</td>\n",
       "      <td>Female</td>\n",
       "      <td>38</td>\n",
       "      <td>64</td>\n",
       "      <td>42</td>\n",
       "    </tr>\n",
       "    <tr>\n",
       "      <th>121</th>\n",
       "      <td>122</td>\n",
       "      <td>Female</td>\n",
       "      <td>38</td>\n",
       "      <td>67</td>\n",
       "      <td>40</td>\n",
       "    </tr>\n",
       "    <tr>\n",
       "      <th>124</th>\n",
       "      <td>125</td>\n",
       "      <td>Female</td>\n",
       "      <td>23</td>\n",
       "      <td>70</td>\n",
       "      <td>29</td>\n",
       "    </tr>\n",
       "    <tr>\n",
       "      <th>126</th>\n",
       "      <td>127</td>\n",
       "      <td>Male</td>\n",
       "      <td>43</td>\n",
       "      <td>71</td>\n",
       "      <td>35</td>\n",
       "    </tr>\n",
       "    <tr>\n",
       "      <th>130</th>\n",
       "      <td>131</td>\n",
       "      <td>Male</td>\n",
       "      <td>47</td>\n",
       "      <td>71</td>\n",
       "      <td>9</td>\n",
       "    </tr>\n",
       "  </tbody>\n",
       "</table>\n",
       "</div>"
      ],
      "text/plain": [
       "     CustomerID  Gender  Age  Annual Income (k$)  Spending Score (1-100)\n",
       "112         113  Female   38                  64                      42\n",
       "121         122  Female   38                  67                      40\n",
       "124         125  Female   23                  70                      29\n",
       "126         127    Male   43                  71                      35\n",
       "130         131    Male   47                  71                       9"
      ]
     },
     "execution_count": 46,
     "metadata": {},
     "output_type": "execute_result"
    }
   ],
   "source": [
    "# store the observations belonging to cluster 2 in d2\n",
    "d2=df[Kmeans3.labels_ == 1]\n",
    "\n",
    "# print the first five observations\n",
    "d2.head()"
   ]
  },
  {
   "cell_type": "code",
   "execution_count": 47,
   "metadata": {},
   "outputs": [
    {
     "data": {
      "text/html": [
       "<div>\n",
       "<style scoped>\n",
       "    .dataframe tbody tr th:only-of-type {\n",
       "        vertical-align: middle;\n",
       "    }\n",
       "\n",
       "    .dataframe tbody tr th {\n",
       "        vertical-align: top;\n",
       "    }\n",
       "\n",
       "    .dataframe thead th {\n",
       "        text-align: right;\n",
       "    }\n",
       "</style>\n",
       "<table border=\"1\" class=\"dataframe\">\n",
       "  <thead>\n",
       "    <tr style=\"text-align: right;\">\n",
       "      <th></th>\n",
       "      <th>CustomerID</th>\n",
       "      <th>Age</th>\n",
       "      <th>Annual Income (k$)</th>\n",
       "      <th>Spending Score (1-100)</th>\n",
       "    </tr>\n",
       "  </thead>\n",
       "  <tbody>\n",
       "    <tr>\n",
       "      <th>count</th>\n",
       "      <td>37.000000</td>\n",
       "      <td>37.000000</td>\n",
       "      <td>37.000000</td>\n",
       "      <td>37.000000</td>\n",
       "    </tr>\n",
       "    <tr>\n",
       "      <th>mean</th>\n",
       "      <td>159.513514</td>\n",
       "      <td>39.567568</td>\n",
       "      <td>85.135135</td>\n",
       "      <td>19.621622</td>\n",
       "    </tr>\n",
       "    <tr>\n",
       "      <th>std</th>\n",
       "      <td>23.328120</td>\n",
       "      <td>10.691483</td>\n",
       "      <td>14.697245</td>\n",
       "      <td>11.842371</td>\n",
       "    </tr>\n",
       "    <tr>\n",
       "      <th>min</th>\n",
       "      <td>113.000000</td>\n",
       "      <td>19.000000</td>\n",
       "      <td>64.000000</td>\n",
       "      <td>1.000000</td>\n",
       "    </tr>\n",
       "    <tr>\n",
       "      <th>25%</th>\n",
       "      <td>141.000000</td>\n",
       "      <td>34.000000</td>\n",
       "      <td>75.000000</td>\n",
       "      <td>10.000000</td>\n",
       "    </tr>\n",
       "    <tr>\n",
       "      <th>50%</th>\n",
       "      <td>159.000000</td>\n",
       "      <td>41.000000</td>\n",
       "      <td>78.000000</td>\n",
       "      <td>17.000000</td>\n",
       "    </tr>\n",
       "    <tr>\n",
       "      <th>75%</th>\n",
       "      <td>179.000000</td>\n",
       "      <td>47.000000</td>\n",
       "      <td>93.000000</td>\n",
       "      <td>28.000000</td>\n",
       "    </tr>\n",
       "    <tr>\n",
       "      <th>max</th>\n",
       "      <td>197.000000</td>\n",
       "      <td>59.000000</td>\n",
       "      <td>126.000000</td>\n",
       "      <td>42.000000</td>\n",
       "    </tr>\n",
       "  </tbody>\n",
       "</table>\n",
       "</div>"
      ],
      "text/plain": [
       "       CustomerID        Age  Annual Income (k$)  Spending Score (1-100)\n",
       "count   37.000000  37.000000           37.000000               37.000000\n",
       "mean   159.513514  39.567568           85.135135               19.621622\n",
       "std     23.328120  10.691483           14.697245               11.842371\n",
       "min    113.000000  19.000000           64.000000                1.000000\n",
       "25%    141.000000  34.000000           75.000000               10.000000\n",
       "50%    159.000000  41.000000           78.000000               17.000000\n",
       "75%    179.000000  47.000000           93.000000               28.000000\n",
       "max    197.000000  59.000000          126.000000               42.000000"
      ]
     },
     "execution_count": 47,
     "metadata": {},
     "output_type": "execute_result"
    }
   ],
   "source": [
    "# statistical summary of the observations in 2nd cluster\n",
    "d2.describe()"
   ]
  },
  {
   "cell_type": "code",
   "execution_count": 49,
   "metadata": {},
   "outputs": [
    {
     "data": {
      "text/html": [
       "<div>\n",
       "<style scoped>\n",
       "    .dataframe tbody tr th:only-of-type {\n",
       "        vertical-align: middle;\n",
       "    }\n",
       "\n",
       "    .dataframe tbody tr th {\n",
       "        vertical-align: top;\n",
       "    }\n",
       "\n",
       "    .dataframe thead th {\n",
       "        text-align: right;\n",
       "    }\n",
       "</style>\n",
       "<table border=\"1\" class=\"dataframe\">\n",
       "  <thead>\n",
       "    <tr style=\"text-align: right;\">\n",
       "      <th></th>\n",
       "      <th>CustomerID</th>\n",
       "      <th>Gender</th>\n",
       "      <th>Age</th>\n",
       "      <th>Annual Income (k$)</th>\n",
       "      <th>Spending Score (1-100)</th>\n",
       "    </tr>\n",
       "  </thead>\n",
       "  <tbody>\n",
       "    <tr>\n",
       "      <th>122</th>\n",
       "      <td>123</td>\n",
       "      <td>Female</td>\n",
       "      <td>40</td>\n",
       "      <td>69</td>\n",
       "      <td>58</td>\n",
       "    </tr>\n",
       "    <tr>\n",
       "      <th>123</th>\n",
       "      <td>124</td>\n",
       "      <td>Male</td>\n",
       "      <td>39</td>\n",
       "      <td>69</td>\n",
       "      <td>91</td>\n",
       "    </tr>\n",
       "    <tr>\n",
       "      <th>125</th>\n",
       "      <td>126</td>\n",
       "      <td>Female</td>\n",
       "      <td>31</td>\n",
       "      <td>70</td>\n",
       "      <td>77</td>\n",
       "    </tr>\n",
       "    <tr>\n",
       "      <th>127</th>\n",
       "      <td>128</td>\n",
       "      <td>Male</td>\n",
       "      <td>40</td>\n",
       "      <td>71</td>\n",
       "      <td>95</td>\n",
       "    </tr>\n",
       "    <tr>\n",
       "      <th>129</th>\n",
       "      <td>130</td>\n",
       "      <td>Male</td>\n",
       "      <td>38</td>\n",
       "      <td>71</td>\n",
       "      <td>75</td>\n",
       "    </tr>\n",
       "  </tbody>\n",
       "</table>\n",
       "</div>"
      ],
      "text/plain": [
       "     CustomerID  Gender  Age  Annual Income (k$)  Spending Score (1-100)\n",
       "122         123  Female   40                  69                      58\n",
       "123         124    Male   39                  69                      91\n",
       "125         126  Female   31                  70                      77\n",
       "127         128    Male   40                  71                      95\n",
       "129         130    Male   38                  71                      75"
      ]
     },
     "execution_count": 49,
     "metadata": {},
     "output_type": "execute_result"
    }
   ],
   "source": [
    "# store the observations belonging to cluster 3 in d3\n",
    "d3=df[Kmeans3.labels_ == 2]\n",
    "\n",
    "# print the first five observations\n",
    "d3.head()"
   ]
  },
  {
   "cell_type": "code",
   "execution_count": 50,
   "metadata": {},
   "outputs": [
    {
     "data": {
      "text/html": [
       "<div>\n",
       "<style scoped>\n",
       "    .dataframe tbody tr th:only-of-type {\n",
       "        vertical-align: middle;\n",
       "    }\n",
       "\n",
       "    .dataframe tbody tr th {\n",
       "        vertical-align: top;\n",
       "    }\n",
       "\n",
       "    .dataframe thead th {\n",
       "        text-align: right;\n",
       "    }\n",
       "</style>\n",
       "<table border=\"1\" class=\"dataframe\">\n",
       "  <thead>\n",
       "    <tr style=\"text-align: right;\">\n",
       "      <th></th>\n",
       "      <th>CustomerID</th>\n",
       "      <th>Age</th>\n",
       "      <th>Annual Income (k$)</th>\n",
       "      <th>Spending Score (1-100)</th>\n",
       "    </tr>\n",
       "  </thead>\n",
       "  <tbody>\n",
       "    <tr>\n",
       "      <th>count</th>\n",
       "      <td>39.000000</td>\n",
       "      <td>39.000000</td>\n",
       "      <td>39.000000</td>\n",
       "      <td>39.000000</td>\n",
       "    </tr>\n",
       "    <tr>\n",
       "      <th>mean</th>\n",
       "      <td>160.025641</td>\n",
       "      <td>32.948718</td>\n",
       "      <td>84.794872</td>\n",
       "      <td>81.487179</td>\n",
       "    </tr>\n",
       "    <tr>\n",
       "      <th>std</th>\n",
       "      <td>22.760177</td>\n",
       "      <td>3.879424</td>\n",
       "      <td>14.285030</td>\n",
       "      <td>10.127793</td>\n",
       "    </tr>\n",
       "    <tr>\n",
       "      <th>min</th>\n",
       "      <td>123.000000</td>\n",
       "      <td>27.000000</td>\n",
       "      <td>69.000000</td>\n",
       "      <td>58.000000</td>\n",
       "    </tr>\n",
       "    <tr>\n",
       "      <th>25%</th>\n",
       "      <td>141.000000</td>\n",
       "      <td>30.000000</td>\n",
       "      <td>74.500000</td>\n",
       "      <td>74.000000</td>\n",
       "    </tr>\n",
       "    <tr>\n",
       "      <th>50%</th>\n",
       "      <td>160.000000</td>\n",
       "      <td>32.000000</td>\n",
       "      <td>78.000000</td>\n",
       "      <td>83.000000</td>\n",
       "    </tr>\n",
       "    <tr>\n",
       "      <th>75%</th>\n",
       "      <td>179.000000</td>\n",
       "      <td>36.000000</td>\n",
       "      <td>90.500000</td>\n",
       "      <td>90.000000</td>\n",
       "    </tr>\n",
       "    <tr>\n",
       "      <th>max</th>\n",
       "      <td>198.000000</td>\n",
       "      <td>40.000000</td>\n",
       "      <td>126.000000</td>\n",
       "      <td>97.000000</td>\n",
       "    </tr>\n",
       "  </tbody>\n",
       "</table>\n",
       "</div>"
      ],
      "text/plain": [
       "       CustomerID        Age  Annual Income (k$)  Spending Score (1-100)\n",
       "count   39.000000  39.000000           39.000000               39.000000\n",
       "mean   160.025641  32.948718           84.794872               81.487179\n",
       "std     22.760177   3.879424           14.285030               10.127793\n",
       "min    123.000000  27.000000           69.000000               58.000000\n",
       "25%    141.000000  30.000000           74.500000               74.000000\n",
       "50%    160.000000  32.000000           78.000000               83.000000\n",
       "75%    179.000000  36.000000           90.500000               90.000000\n",
       "max    198.000000  40.000000          126.000000               97.000000"
      ]
     },
     "execution_count": 50,
     "metadata": {},
     "output_type": "execute_result"
    }
   ],
   "source": [
    "# statistical summary of the observations in 3rd cluster\n",
    "d3.describe()"
   ]
  },
  {
   "cell_type": "code",
   "execution_count": 51,
   "metadata": {},
   "outputs": [
    {
     "data": {
      "text/html": [
       "<div>\n",
       "<style scoped>\n",
       "    .dataframe tbody tr th:only-of-type {\n",
       "        vertical-align: middle;\n",
       "    }\n",
       "\n",
       "    .dataframe tbody tr th {\n",
       "        vertical-align: top;\n",
       "    }\n",
       "\n",
       "    .dataframe thead th {\n",
       "        text-align: right;\n",
       "    }\n",
       "</style>\n",
       "<table border=\"1\" class=\"dataframe\">\n",
       "  <thead>\n",
       "    <tr style=\"text-align: right;\">\n",
       "      <th></th>\n",
       "      <th>CustomerID</th>\n",
       "      <th>Gender</th>\n",
       "      <th>Age</th>\n",
       "      <th>Annual Income (k$)</th>\n",
       "      <th>Spending Score (1-100)</th>\n",
       "    </tr>\n",
       "  </thead>\n",
       "  <tbody>\n",
       "    <tr>\n",
       "      <th>122</th>\n",
       "      <td>123</td>\n",
       "      <td>Female</td>\n",
       "      <td>40</td>\n",
       "      <td>69</td>\n",
       "      <td>58</td>\n",
       "    </tr>\n",
       "    <tr>\n",
       "      <th>123</th>\n",
       "      <td>124</td>\n",
       "      <td>Male</td>\n",
       "      <td>39</td>\n",
       "      <td>69</td>\n",
       "      <td>91</td>\n",
       "    </tr>\n",
       "    <tr>\n",
       "      <th>125</th>\n",
       "      <td>126</td>\n",
       "      <td>Female</td>\n",
       "      <td>31</td>\n",
       "      <td>70</td>\n",
       "      <td>77</td>\n",
       "    </tr>\n",
       "    <tr>\n",
       "      <th>127</th>\n",
       "      <td>128</td>\n",
       "      <td>Male</td>\n",
       "      <td>40</td>\n",
       "      <td>71</td>\n",
       "      <td>95</td>\n",
       "    </tr>\n",
       "    <tr>\n",
       "      <th>129</th>\n",
       "      <td>130</td>\n",
       "      <td>Male</td>\n",
       "      <td>38</td>\n",
       "      <td>71</td>\n",
       "      <td>75</td>\n",
       "    </tr>\n",
       "  </tbody>\n",
       "</table>\n",
       "</div>"
      ],
      "text/plain": [
       "     CustomerID  Gender  Age  Annual Income (k$)  Spending Score (1-100)\n",
       "122         123  Female   40                  69                      58\n",
       "123         124    Male   39                  69                      91\n",
       "125         126  Female   31                  70                      77\n",
       "127         128    Male   40                  71                      95\n",
       "129         130    Male   38                  71                      75"
      ]
     },
     "execution_count": 51,
     "metadata": {},
     "output_type": "execute_result"
    }
   ],
   "source": [
    "# store the observations belonging to cluster 3 in d3\n",
    "d4=df[Kmeans3.labels_ == 2]\n",
    "\n",
    "# print the first five observations\n",
    "d4.head()"
   ]
  },
  {
   "cell_type": "code",
   "execution_count": 52,
   "metadata": {},
   "outputs": [
    {
     "data": {
      "text/html": [
       "<div>\n",
       "<style scoped>\n",
       "    .dataframe tbody tr th:only-of-type {\n",
       "        vertical-align: middle;\n",
       "    }\n",
       "\n",
       "    .dataframe tbody tr th {\n",
       "        vertical-align: top;\n",
       "    }\n",
       "\n",
       "    .dataframe thead th {\n",
       "        text-align: right;\n",
       "    }\n",
       "</style>\n",
       "<table border=\"1\" class=\"dataframe\">\n",
       "  <thead>\n",
       "    <tr style=\"text-align: right;\">\n",
       "      <th></th>\n",
       "      <th>CustomerID</th>\n",
       "      <th>Age</th>\n",
       "      <th>Annual Income (k$)</th>\n",
       "      <th>Spending Score (1-100)</th>\n",
       "    </tr>\n",
       "  </thead>\n",
       "  <tbody>\n",
       "    <tr>\n",
       "      <th>count</th>\n",
       "      <td>39.000000</td>\n",
       "      <td>39.000000</td>\n",
       "      <td>39.000000</td>\n",
       "      <td>39.000000</td>\n",
       "    </tr>\n",
       "    <tr>\n",
       "      <th>mean</th>\n",
       "      <td>160.025641</td>\n",
       "      <td>32.948718</td>\n",
       "      <td>84.794872</td>\n",
       "      <td>81.487179</td>\n",
       "    </tr>\n",
       "    <tr>\n",
       "      <th>std</th>\n",
       "      <td>22.760177</td>\n",
       "      <td>3.879424</td>\n",
       "      <td>14.285030</td>\n",
       "      <td>10.127793</td>\n",
       "    </tr>\n",
       "    <tr>\n",
       "      <th>min</th>\n",
       "      <td>123.000000</td>\n",
       "      <td>27.000000</td>\n",
       "      <td>69.000000</td>\n",
       "      <td>58.000000</td>\n",
       "    </tr>\n",
       "    <tr>\n",
       "      <th>25%</th>\n",
       "      <td>141.000000</td>\n",
       "      <td>30.000000</td>\n",
       "      <td>74.500000</td>\n",
       "      <td>74.000000</td>\n",
       "    </tr>\n",
       "    <tr>\n",
       "      <th>50%</th>\n",
       "      <td>160.000000</td>\n",
       "      <td>32.000000</td>\n",
       "      <td>78.000000</td>\n",
       "      <td>83.000000</td>\n",
       "    </tr>\n",
       "    <tr>\n",
       "      <th>75%</th>\n",
       "      <td>179.000000</td>\n",
       "      <td>36.000000</td>\n",
       "      <td>90.500000</td>\n",
       "      <td>90.000000</td>\n",
       "    </tr>\n",
       "    <tr>\n",
       "      <th>max</th>\n",
       "      <td>198.000000</td>\n",
       "      <td>40.000000</td>\n",
       "      <td>126.000000</td>\n",
       "      <td>97.000000</td>\n",
       "    </tr>\n",
       "  </tbody>\n",
       "</table>\n",
       "</div>"
      ],
      "text/plain": [
       "       CustomerID        Age  Annual Income (k$)  Spending Score (1-100)\n",
       "count   39.000000  39.000000           39.000000               39.000000\n",
       "mean   160.025641  32.948718           84.794872               81.487179\n",
       "std     22.760177   3.879424           14.285030               10.127793\n",
       "min    123.000000  27.000000           69.000000               58.000000\n",
       "25%    141.000000  30.000000           74.500000               74.000000\n",
       "50%    160.000000  32.000000           78.000000               83.000000\n",
       "75%    179.000000  36.000000           90.500000               90.000000\n",
       "max    198.000000  40.000000          126.000000               97.000000"
      ]
     },
     "execution_count": 52,
     "metadata": {},
     "output_type": "execute_result"
    }
   ],
   "source": [
    "# statistical summary of the observations in 3rd cluster\n",
    "d4.describe()"
   ]
  }
 ],
 "metadata": {
  "colab": {
   "provenance": []
  },
  "kernelspec": {
   "display_name": "Python 3 (ipykernel)",
   "language": "python",
   "name": "python3"
  },
  "language_info": {
   "codemirror_mode": {
    "name": "ipython",
    "version": 3
   },
   "file_extension": ".py",
   "mimetype": "text/x-python",
   "name": "python",
   "nbconvert_exporter": "python",
   "pygments_lexer": "ipython3",
   "version": "3.9.12"
  }
 },
 "nbformat": 4,
 "nbformat_minor": 1
}
